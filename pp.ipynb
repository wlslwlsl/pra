{
  "nbformat_minor": 0, 
  "nbformat": 4, 
  "cells": [
    {
      "execution_count": null, 
      "cell_type": "code", 
      "source": [
        "%matplotlib inline"
      ], 
      "outputs": [], 
      "metadata": {
        "collapsed": false
      }
    }, 
    {
      "source": [
        "\nWatershed and random walker for segmentation\n============================================\n\nThis example compares two segmentation methods in order to separate two\nconnected disks: the watershed algorithm, and the random walker algorithm.\n\nBoth segmentation methods require seeds, that are pixels belonging\nunambigusouly to a reagion. Here, local maxima of the distance map to the\nbackground are used as seeds.\n\n"
      ], 
      "cell_type": "markdown", 
      "metadata": {}
    }, 
    {
      "execution_count": null, 
      "cell_type": "code", 
      "source": [
        "import numpy as np\nfrom skimage.morphology import watershed\nfrom skimage.feature import peak_local_max\nfrom skimage import measure\nfrom skimage.segmentation import random_walker\nimport matplotlib.pyplot as plt\nfrom scipy import ndimage\n\n# Generate an initial image with two overlapping circles\nx, y = np.indices((80, 80))\nx1, y1, x2, y2 = 28, 28, 44, 52\nr1, r2 = 16, 20\nmask_circle1 = (x - x1) ** 2 + (y - y1) ** 2 < r1 ** 2\nmask_circle2 = (x - x2) ** 2 + (y - y2) ** 2 < r2 ** 2\nimage = np.logical_or(mask_circle1, mask_circle2)\n# Now we want to separate the two objects in image\n# Generate the markers as local maxima of the distance\n# to the background\ndistance = ndimage.distance_transform_edt(image)\nlocal_maxi = peak_local_max(\n    distance, indices=False, footprint=np.ones((3, 3)), labels=image)\nmarkers = measure.label(local_maxi)\nlabels_ws = watershed(-distance, markers, mask=image)\n\nmarkers[~image] = -1\nlabels_rw = random_walker(image, markers)\n\nplt.figure(figsize=(12, 3.5))\nplt.subplot(141)\nplt.imshow(image, cmap='gray', interpolation='nearest')\nplt.axis('off')\nplt.title('image')\nplt.subplot(142)\nplt.imshow(-distance, interpolation='nearest')\nplt.axis('off')\nplt.title('distance map')\nplt.subplot(143)\nplt.imshow(labels_ws, cmap='spectral', interpolation='nearest')\nplt.axis('off')\nplt.title('watershed segmentation')\nplt.subplot(144)\nplt.imshow(labels_rw, cmap='spectral', interpolation='nearest')\nplt.axis('off')\nplt.title('random walker segmentation')\n\nplt.tight_layout()\nplt.show()"
      ], 
      "outputs": [], 
      "metadata": {
        "collapsed": false
      }
    }
  ], 
  "metadata": {
    "kernelspec": {
      "display_name": "Python 2", 
      "name": "python2", 
      "language": "python"
    }, 
    "language_info": {
      "mimetype": "text/x-python", 
      "nbconvert_exporter": "python", 
      "name": "python", 
      "file_extension": ".py", 
      "version": "2.7.13", 
      "pygments_lexer": "ipython2", 
      "codemirror_mode": {
        "version": 2, 
        "name": "ipython"
      }
    }
  }
}
